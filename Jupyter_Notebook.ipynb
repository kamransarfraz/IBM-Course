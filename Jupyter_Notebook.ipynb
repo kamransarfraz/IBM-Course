{
 "cells": [
  {
   "cell_type": "markdown",
   "metadata": {},
   "source": [
    "<center>\n",
    "    <img src=\"https://cf-courses-data.s3.us.cloud-object-storage.appdomain.cloud/IBMDeveloperSkillsNetwork-DS0105EN-SkillsNetwork/labs/Module2/images/SN_web_lightmode.png\" width=\"300\" alt=\"cognitiveclass.ai logo\">\n",
    "</center>\n"
   ]
  },
  {
   "cell_type": "markdown",
   "metadata": {},
   "source": [
    "#### Add your code below following the instructions given in the course\n"
   ]
  },
  {
   "cell_type": "markdown",
   "metadata": {},
   "source": [
    "# Peer Graded Assignmeent for IBM Tools for Data Science Course"
   ]
  },
  {
   "cell_type": "markdown",
   "metadata": {},
   "source": [
    "*This assignment tests the skill of using markdown cells for documentation in Data Science *"
   ]
  },
  {
   "cell_type": "markdown",
   "metadata": {},
   "source": [
    "###This is a list of data science languages\n",
    "* pythin\n",
    "* R\n",
    "* julia\n",
    "* scala"
   ]
  },
  {
   "cell_type": "markdown",
   "metadata": {},
   "source": [
    "###This is a list of data science libraries \n",
    "1. pandas\n",
    "2. matplotlib\n",
    "3. seaborn\n"
   ]
  },
  {
   "cell_type": "markdown",
   "metadata": {},
   "source": [
    "###This is a table of Data Science tools\n",
    "| Name | Function |\n",
    "| --- | --- |\n",
    "| IBM watson studio | Cleaning, visualizing and Modeling | \n",
    "| SPSS modeler | Modeling |\n",
    "| IBM OpenScala| Drift, Fairness and Bias checking|"
   ]
  },
  {
   "cell_type": "markdown",
   "metadata": {},
   "source": [
    "*In this expression we will add five with seven and than mulitiply the result by three*"
   ]
  },
  {
   "cell_type": "code",
   "execution_count": null,
   "metadata": {},
   "outputs": [],
   "source": [
    "(5+7)*3"
   ]
  },
  {
   "cell_type": "code",
   "execution_count": null,
   "metadata": {},
   "outputs": [],
   "source": [
    "def mins2hours(minutes)\n",
    "    hours = minutes*60\n",
    "    return hours\n",
    "\n",
    "print(mins2hours(6))"
   ]
  },
  {
   "cell_type": "markdown",
   "metadata": {},
   "source": [
    "The objectives of this assignment are:\n",
    "* Introduction to Jupyter notebook\n",
    "* Practicing of markdown options \n",
    "* Getting hands on experience of jupyter notebook"
   ]
  },
  {
   "cell_type": "markdown",
   "metadata": {},
   "source": [
    "Authour Kamran Sarfraz"
   ]
  }
 ],
 "metadata": {
  "kernelspec": {
   "display_name": "Python 3 (ipykernel)",
   "language": "python",
   "name": "python3"
  },
  "language_info": {
   "codemirror_mode": {
    "name": "ipython",
    "version": 3
   },
   "file_extension": ".py",
   "mimetype": "text/x-python",
   "name": "python",
   "nbconvert_exporter": "python",
   "pygments_lexer": "ipython3",
   "version": "3.10.7"
  }
 },
 "nbformat": 4,
 "nbformat_minor": 4
}
