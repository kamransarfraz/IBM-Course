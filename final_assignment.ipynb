{
 "cells": [
  {
   "cell_type": "markdown",
   "id": "e68a3ec7",
   "metadata": {},
   "source": [
    "# My Jupyter Notebook on IBM Watson Studio"
   ]
  },
  {
   "cell_type": "markdown",
   "id": "46c3dfc6",
   "metadata": {},
   "source": [
    "__Kamran Sarfraz__"
   ]
  },
  {
   "cell_type": "markdown",
   "id": "e63fb5d0",
   "metadata": {},
   "source": [
    "_I am interested in data science because it facinates me._"
   ]
  },
  {
   "cell_type": "markdown",
   "id": "62ff6968",
   "metadata": {},
   "source": [
    "### This code does nursery school  mathimatics"
   ]
  },
  {
   "cell_type": "code",
   "execution_count": 1,
   "id": "0a0148ca",
   "metadata": {},
   "outputs": [
    {
     "data": {
      "text/plain": [
       "11"
      ]
     },
     "execution_count": 1,
     "metadata": {},
     "output_type": "execute_result"
    }
   ],
   "source": [
    "4+7"
   ]
  },
  {
   "cell_type": "markdown",
   "id": "2bbc7a67",
   "metadata": {},
   "source": [
    "#### Bulleted List\n",
    "* list item one\n",
    "* list Item two\n",
    "* so on ...\n",
    "#### Numbered List\n",
    "1. list item one\n",
    "2. list Item two\n",
    "3. so on ...\n",
    "#### Table\n",
    "| S.No| column1| column2 |\n",
    "| --- | --- | --- |\n",
    "| 1 | entry1 | entry2 | "
   ]
  }
 ],
 "metadata": {
  "kernelspec": {
   "display_name": "Python 3 (ipykernel)",
   "language": "python",
   "name": "python3"
  },
  "language_info": {
   "codemirror_mode": {
    "name": "ipython",
    "version": 3
   },
   "file_extension": ".py",
   "mimetype": "text/x-python",
   "name": "python",
   "nbconvert_exporter": "python",
   "pygments_lexer": "ipython3",
   "version": "3.10.7"
  }
 },
 "nbformat": 4,
 "nbformat_minor": 5
}
